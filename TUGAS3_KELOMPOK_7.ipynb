{
  "cells": [
    {
      "cell_type": "code",
      "execution_count": null,
      "metadata": {
        "id": "cZAH3c9K5C8p"
      },
      "outputs": [],
      "source": [
        "from keras.models import Sequential\n",
        "from keras.layers import Conv2D, MaxPooling2D, Flatten, Dense\n",
        "from keras.preprocessing.image import ImageDataGenerator"
      ]
    },
    {
      "cell_type": "code",
      "execution_count": null,
      "metadata": {
        "colab": {
          "base_uri": "https://localhost:8080/"
        },
        "id": "mp9jlm_j6bXW",
        "outputId": "600f7e30-6733-4c15-b5f8-4b97a5d3cf44"
      },
      "outputs": [
        {
          "output_type": "stream",
          "name": "stdout",
          "text": [
            "Found 90 images belonging to 2 classes.\n",
            "Found 29 images belonging to 2 classes.\n"
          ]
        }
      ],
      "source": [
        "# Preprocessing data\n",
        "train_datagen = ImageDataGenerator(rescale = 1./255)\n",
        "\n",
        "train_set = train_datagen.flow_from_directory('/content/drive/MyDrive/dataset/train',\n",
        "                                               target_size = (150, 150),\n",
        "                                               batch_size = 32,\n",
        "                                               class_mode = 'binary')\n",
        "\n",
        "test_datagen = ImageDataGenerator(rescale = 1./255)\n",
        "\n",
        "test_set = test_datagen.flow_from_directory('/content/drive/MyDrive/dataset/test',\n",
        "                                             target_size = (150, 150),\n",
        "                                             batch_size = 32,\n",
        "                                             class_mode = 'binary')"
      ]
    },
    {
      "cell_type": "code",
      "execution_count": null,
      "metadata": {
        "id": "ycmgZbnm6oHv"
      },
      "outputs": [],
      "source": [
        "# Membuat model CNN\n",
        "model = Sequential()\n",
        "\n",
        "model.add(Conv2D(32, (3, 3), input_shape = (150, 150, 3), activation = 'relu'))\n",
        "model.add(MaxPooling2D(pool_size = (2, 2)))\n",
        "\n",
        "model.add(Conv2D(64, (3, 3), activation = 'relu'))\n",
        "model.add(MaxPooling2D(pool_size = (2, 2)))\n",
        "\n",
        "model.add(Flatten())\n",
        "\n",
        "model.add(Dense(units = 128, activation = 'relu'))\n",
        "model.add(Dense(units = 1, activation = 'sigmoid'))"
      ]
    },
    {
      "cell_type": "code",
      "execution_count": null,
      "metadata": {
        "id": "bf0OnuEk6vwg"
      },
      "outputs": [],
      "source": [
        "# Compile model\n",
        "model.compile(optimizer = 'adam', loss = 'binary_crossentropy', metrics = ['accuracy'])"
      ]
    },
    {
      "cell_type": "code",
      "execution_count": null,
      "metadata": {
        "colab": {
          "base_uri": "https://localhost:8080/"
        },
        "id": "6bmOAGAb6zkR",
        "outputId": "287b6a47-d8fc-4f1f-f479-bf518fb446aa"
      },
      "outputs": [
        {
          "output_type": "stream",
          "name": "stderr",
          "text": [
            "<ipython-input-12-751e6910e2a5>:2: UserWarning: `Model.fit_generator` is deprecated and will be removed in a future version. Please use `Model.fit`, which supports generators.\n",
            "  model.fit_generator(train_set,\n"
          ]
        },
        {
          "output_type": "stream",
          "name": "stdout",
          "text": [
            "Epoch 1/10\n",
            "1/1 [==============================] - ETA: 0s - loss: 0.2662 - accuracy: 0.9375"
          ]
        },
        {
          "output_type": "stream",
          "name": "stderr",
          "text": [
            "WARNING:tensorflow:Your input ran out of data; interrupting training. Make sure that your dataset or generator can generate at least `steps_per_epoch * epochs` batches (in this case, 10 batches). You may need to use the repeat() function when building your dataset.\n"
          ]
        },
        {
          "output_type": "stream",
          "name": "stdout",
          "text": [
            "\b\b\b\b\b\b\b\b\b\b\b\b\b\b\b\b\b\b\b\b\b\b\b\b\b\b\b\b\b\b\b\b\b\b\b\b\b\b\b\b\b\b\b\b\b\b\b\b\b\b\b\b\b\b\b\b\b\b\b\b\b\b\b\b\b\b\b\b\b\b\b\b\b\b\b\b\b\b\b\b\r1/1 [==============================] - 4s 4s/step - loss: 0.2662 - accuracy: 0.9375 - val_loss: 0.2836 - val_accuracy: 0.9310\n",
            "Epoch 2/10\n",
            "1/1 [==============================] - 2s 2s/step - loss: 0.3257 - accuracy: 0.8438\n",
            "Epoch 3/10\n",
            "1/1 [==============================] - 2s 2s/step - loss: 0.1487 - accuracy: 1.0000\n",
            "Epoch 4/10\n",
            "1/1 [==============================] - 2s 2s/step - loss: 0.1730 - accuracy: 0.9688\n",
            "Epoch 5/10\n",
            "1/1 [==============================] - 2s 2s/step - loss: 0.1823 - accuracy: 0.9688\n",
            "Epoch 6/10\n",
            "1/1 [==============================] - 3s 3s/step - loss: 0.1607 - accuracy: 1.0000\n",
            "Epoch 7/10\n",
            "1/1 [==============================] - 2s 2s/step - loss: 0.1855 - accuracy: 0.9615\n",
            "Epoch 8/10\n",
            "1/1 [==============================] - 2s 2s/step - loss: 0.1454 - accuracy: 0.9688\n",
            "Epoch 9/10\n",
            "1/1 [==============================] - 2s 2s/step - loss: 0.0809 - accuracy: 1.0000\n",
            "Epoch 10/10\n",
            "1/1 [==============================] - 1s 1s/step - loss: 0.0966 - accuracy: 1.0000\n"
          ]
        },
        {
          "output_type": "execute_result",
          "data": {
            "text/plain": [
              "<keras.callbacks.History at 0x7f0b6a26da90>"
            ]
          },
          "metadata": {},
          "execution_count": 12
        }
      ],
      "source": [
        "# Training model\n",
        "model.fit_generator(train_set,\n",
        "                    steps_per_epoch = 1,\n",
        "                    epochs = 10,\n",
        "                    validation_data = test_set,\n",
        "                    validation_steps = 10)"
      ]
    },
    {
      "cell_type": "code",
      "execution_count": null,
      "metadata": {
        "colab": {
          "base_uri": "https://localhost:8080/"
        },
        "id": "B9jqcVgs68wz",
        "outputId": "146efb13-e699-4511-8bb1-9a4b6b6eb1d1"
      },
      "outputs": [
        {
          "output_type": "stream",
          "name": "stdout",
          "text": [
            "1/1 [==============================] - 1s 784ms/step - loss: 0.2945 - accuracy: 0.8621\n",
            "Accuracy: 0.8620689511299133\n"
          ]
        }
      ],
      "source": [
        "# Evaluasi model\n",
        "eval_result = model.evaluate(test_set)\n",
        "print('Accuracy:', eval_result[1])"
      ]
    },
    {
      "cell_type": "code",
      "execution_count": null,
      "metadata": {
        "id": "Gt21sVnX7Co2"
      },
      "outputs": [],
      "source": [
        "# Prediksi\n",
        "import numpy as np\n",
        "from PIL import Image"
      ]
    },
    {
      "cell_type": "code",
      "execution_count": null,
      "metadata": {
        "colab": {
          "base_uri": "https://localhost:8080/"
        },
        "id": "3Dn3-1pm7GOQ",
        "outputId": "eb7bb5c6-5169-423d-c8aa-dad334331430"
      },
      "outputs": [
        {
          "output_type": "stream",
          "name": "stdout",
          "text": [
            "1/1 [==============================] - 0s 36ms/step\n",
            "bersih\n"
          ]
        }
      ],
      "source": [
        "test_image = Image.open('/content/drive/MyDrive/dataset/test/bersih/g5.jpg')\n",
        "test_image = test_image.resize((150, 150))\n",
        "test_image = np.array(test_image)\n",
        "test_image = np.expand_dims(test_image, axis = 0)\n",
        "result = model.predict(test_image)\n",
        "\n",
        "if result[0][0] == 1:\n",
        "    prediction = 'sampah'\n",
        "else:\n",
        "    prediction = 'bersih'\n",
        "    \n",
        "print(prediction)"
      ]
    }
  ],
  "metadata": {
    "colab": {
      "provenance": []
    },
    "kernelspec": {
      "display_name": "Python 3",
      "name": "python3"
    },
    "language_info": {
      "name": "python"
    }
  },
  "nbformat": 4,
  "nbformat_minor": 0
}